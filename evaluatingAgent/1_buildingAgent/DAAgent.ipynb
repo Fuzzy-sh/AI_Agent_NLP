{
 "cells": [
  {
   "cell_type": "markdown",
   "id": "44ce8079-c3b4-4537-844e-7e6d6706e923",
   "metadata": {},
   "source": [
    "# Building DATA ANALASIS (DA) Agent \n",
    "The agent is comprised of a router using OpenAI function calling, and a set of three tools: a database lookup tool, a data analysis tool, and a code generator to create graphs.\n",
    "The agent can lookup information from a local file, perform analysis on that information, and graph results. The example local file is a log of transactions at a local store. The agent can help the store owners understand trends and anomalies in their sales data."
   ]
  },
  {
   "cell_type": "markdown",
   "id": "fb9a4f62-de25-4a66-8cdb-f33d1e92ad92",
   "metadata": {},
   "source": [
    "## Importing necessary libraries "
   ]
  },
  {
   "cell_type": "code",
   "execution_count": null,
   "id": "e4d6c602-28a5-42f2-9e53-33dac5846cba",
   "metadata": {
    "height": 149
   },
   "outputs": [],
   "source": [
    "\n",
    "# openai: A library to interact with OpenAI's API, allowing developers to integrate AI capabilities into their applications.\n",
    "from openai import OpenAI\n",
    "# pandas: A powerful data manipulation and analysis library for Python, providing data structures like DataFrames for handling structured data.\n",
    "import pandas as pd\n",
    "import json\n",
    "\n",
    "# duckdb: A high-performance SQL OLAP database management system that is designed for analytical workloads.\n",
    "import duckdb\n",
    "\n",
    "# pydantic: A data validation and settings management library that uses Python type annotations to validate and parse data.\n",
    "from pydantic import BaseModel, Field\n",
    "# IPython: An enhanced interactive Python shell that provides features like rich media display, shell syntax, and support for interactive data visualization.\n",
    "from IPython.display import Markdown\n",
    "\n",
    "\n",
    "# It also imports a helper function to get the OpenAI API key.\n",
    "from helper import get_openai_api_key"
   ]
  },
  {
   "cell_type": "markdown",
   "id": "30f7f1fb-fea2-475b-9a90-a70eea108153",
   "metadata": {},
   "source": [
    "## Initializing the OpenAI client"
   ]
  },
  {
   "cell_type": "code",
   "execution_count": null,
   "id": "a5bbb872-2328-4283-b544-9a4c6ba960d3",
   "metadata": {
    "height": 98
   },
   "outputs": [],
   "source": [
    "# The OpenAI client is initialized with the API key obtained from the helper function.\n",
    "# This client allows you to interact with OpenAI's API, enabling you to make requests for various AI capabilities.\n",
    "openai_api_key = get_openai_api_key()\n",
    "client = OpenAI(api_key=openai_api_key)\n",
    "\n",
    "MODEL = \"gpt-4o-mini\"\n",
    "\n",
    "\n"
   ]
  },
  {
   "cell_type": "markdown",
   "id": "2503d9fe-e023-4446-b1b2-4633ab0efd8e",
   "metadata": {},
   "source": [
    "## Defining the tools"
   ]
  },
  {
   "cell_type": "markdown",
   "id": "f3f909b1-689e-4d61-8f8d-c6f35520ad66",
   "metadata": {},
   "source": [
    "Let's start by creating the three tools the agent will be able to use."
   ]
  },
  {
   "cell_type": "markdown",
   "id": "cded04f0-ea0d-48b1-83d0-1bfc84ea170e",
   "metadata": {},
   "source": [
    "### Tool 1: Database Lookup\n",
    "This first tool reads from a local parquet file that contains the transaction data. "
   ]
  },
  {
   "cell_type": "code",
   "execution_count": 64,
   "id": "78dbdaf9-d5e0-4f0d-aa41-318020ab7b1e",
   "metadata": {
    "height": 47
   },
   "outputs": [],
   "source": [
    "# define the path to the transactional data\n",
    "TRANSACTION_DATA_FILE_PATH = '../data/Store_Sales_Price_Elasticity_Promotions_Data.parquet'"
   ]
  },
  {
   "cell_type": "markdown",
   "id": "0b7a0d24-185a-47a4-a27b-3959cb1e0ba1",
   "metadata": {},
   "source": [
    "This database lookup tool works using three steps. \n",
    "\n",
    "<img src=\"images/tool1.png\" width=\"500\"/>\n",
    "\n",
    "1. First, it creates the SQL table from a local file, if not already done.\n",
    "2. Second, it translates the original prompt into an sql query (using an LLM call).\n",
    "3. Finally, it runs that query against the database."
   ]
  },
  {
   "cell_type": "code",
   "execution_count": 51,
   "id": "2dd37619-7785-41de-9986-6260d6e17221",
   "metadata": {
    "height": 149
   },
   "outputs": [],
   "source": [
    "# prompt template for step 2 of tool 1\n",
    "SQL_GENERATION_PROMPT = \"\"\"\n",
    "Generate an SQL query based on a prompt. Do not reply with anything besides the SQL query.\n",
    "The prompt is: {prompt}\n",
    "\n",
    "The available columns are: {columns}\n",
    "The table name is: {table_name}\n",
    "\"\"\""
   ]
  },
  {
   "cell_type": "code",
   "execution_count": null,
   "id": "1b7c2f28-2ec1-43de-b555-d300d916c47d",
   "metadata": {
    "height": 234
   },
   "outputs": [],
   "source": [
    "# code for step 2 of tool 1\n",
    "def generate_sql_query(prompt: str, columns: list, table_name: str) -> str:\n",
    "    \"\"\"Generate an SQL query based on a prompt\"\"\"\n",
    "    formatted_prompt = SQL_GENERATION_PROMPT.format(prompt=prompt, \n",
    "                                                    columns=columns, \n",
    "                                                    table_name=table_name)\n",
    "    # explain the chat completion request\n",
    "    # The model is set to \"gpt-4o-mini\", which is a smaller version of the GPT-4 model.\n",
    "    # The messages parameter contains the formatted prompt, which includes the user's prompt, available columns, and table name.\n",
    "    # The response is expected to be a single message from the model, which contains the generated SQL query.\n",
    "    # The response is then returned as a string.\n",
    "\n",
    "    response = client.chat.completions.create(\n",
    "        model=MODEL,\n",
    "        messages=[{\"role\": \"user\", \"content\": formatted_prompt}],\n",
    "    )\n",
    "    \n",
    "    return response.choices[0].message.content"
   ]
  },
  {
   "cell_type": "code",
   "execution_count": 53,
   "id": "cdb59fa5-f096-4ba6-9967-4dffea8aa5cb",
   "metadata": {
    "height": 421
   },
   "outputs": [],
   "source": [
    "# code for tool 1\n",
    "def lookup_sales_data(prompt: str) -> str:\n",
    "    \"\"\"Implementation of sales data lookup from parquet file using SQL\"\"\"\n",
    "    try:\n",
    "\n",
    "        # define the table name\n",
    "        table_name = \"sales\"\n",
    "        \n",
    "        # step 1: read the parquet file into a DuckDB table\n",
    "        df = pd.read_parquet(TRANSACTION_DATA_FILE_PATH)\n",
    "        duckdb.sql(f\"CREATE TABLE IF NOT EXISTS {table_name} AS SELECT * FROM df\")\n",
    "\n",
    "        # step 2: generate the SQL code\n",
    "        sql_query = generate_sql_query(prompt, df.columns, table_name)\n",
    "        # clean the response to make sure it only includes the SQL code\n",
    "        sql_query = sql_query.strip()\n",
    "        sql_query = sql_query.replace(\"```sql\", \"\").replace(\"```\", \"\")\n",
    "        \n",
    "        # step 3: execute the SQL query\n",
    "        result = duckdb.sql(sql_query).df()\n",
    "        \n",
    "        return result.to_string()\n",
    "    except Exception as e:\n",
    "        return f\"Error accessing data: {str(e)}\""
   ]
  },
  {
   "cell_type": "markdown",
   "id": "f044f10e-6fd1-4514-94b5-3d62fe2b23d1",
   "metadata": {},
   "source": [
    "Great! Now let's test the first tool and make sure it worked correctly."
   ]
  },
  {
   "cell_type": "code",
   "execution_count": 54,
   "id": "7391d9ff-55f1-4b1d-bfe5-a4df403bf4b9",
   "metadata": {
    "height": 47
   },
   "outputs": [
    {
     "name": "stdout",
     "output_type": "stream",
     "text": [
      "    Store_Number  SKU_Coded  Product_Class_Code  Sold_Date  Qty_Sold  Total_Sale_Value  On_Promo\n",
      "0           1320    6173050               22875 2021-11-01         1          4.990000         0\n",
      "1           1320    6174250               22875 2021-11-01         1          0.890000         0\n",
      "2           1320    6176200               22975 2021-11-01         2         99.980003         0\n",
      "3           1320    6176800               22800 2021-11-01         1         14.970000         0\n",
      "4           1320    6177250               22975 2021-11-01         1          6.890000         0\n",
      "5           1320    6177300               22800 2021-11-01         1          9.990000         0\n",
      "6           1320    6177350               22800 2021-11-01         2         16.980000         0\n",
      "7           1320    6177700               22875 2021-11-01         1          3.190000         0\n",
      "8           1320    6178000               22875 2021-11-01         2          6.380000         0\n",
      "9           1320    6178250               22800 2021-11-01         1         16.590000         0\n",
      "10          1320    6179250               24400 2021-11-01         1         14.990000         0\n",
      "11          1320    6179300               22800 2021-11-01         2          9.980000         0\n",
      "12          1320    6179400               24400 2021-11-01         2         29.980000         0\n",
      "13          1320    6179450               24400 2021-11-01         1         14.990000         0\n",
      "14          1320    6179500               24400 2021-11-01         1         14.990000         0\n",
      "15          1320    6179750               22800 2021-11-01         2         39.980000         0\n",
      "16          1320    6180550               22975 2021-11-01         1         15.990000         0\n",
      "17          1320    6182050               22975 2021-11-01         1          7.990000         0\n",
      "18          1320    6183750               22850 2021-11-01         3         38.970001         0\n",
      "19          1320    6184100               22975 2021-11-01         3         59.970001         0\n",
      "20          1320    6188550               22950 2021-11-01         2         15.980000         0\n",
      "21          1320    6190050               24425 2021-11-01         5         19.950001         0\n",
      "22          1320    6190150               24425 2021-11-01         1          8.990000         0\n",
      "23          1320    6190200               24425 2021-11-01         1          8.990000         0\n",
      "24          1320    6190250               24425 2021-11-01         1          7.990000         0\n",
      "25          1320    6190350               22950 2021-11-01         1          6.990000         0\n",
      "26          1320    6190400               22950 2021-11-01         1          6.990000         0\n",
      "27          1320    6193750               22875 2021-11-01         1          6.990000         0\n",
      "28          1320    6195350               24375 2021-11-01         1         16.990000         0\n",
      "29          1320    6195800               22850 2021-11-01         3         25.719999         1\n"
     ]
    }
   ],
   "source": [
    "example_data = lookup_sales_data(\"Show me all the sales for store 1320 on November 1st, 2021\")\n",
    "print(example_data)"
   ]
  },
  {
   "cell_type": "markdown",
   "id": "481388d3-578d-492b-a53c-46811ac573d7",
   "metadata": {},
   "source": [
    "### Tool 2: Data Analysis"
   ]
  },
  {
   "cell_type": "markdown",
   "id": "153a6d53-fcae-41bd-9d3c-e90960874737",
   "metadata": {},
   "source": [
    "The second tool can analyze the returned data and display conclusions to users.\n",
    "\n",
    "<img src=\"images/tool2.png\" width=\"300\"/>"
   ]
  },
  {
   "cell_type": "code",
   "execution_count": 33,
   "id": "a3510f56-30c5-446d-a41f-bec5e4a1de36",
   "metadata": {
    "height": 98
   },
   "outputs": [],
   "source": [
    "# Construct prompt based on analysis type and data subset\n",
    "DATA_ANALYSIS_PROMPT = \"\"\"\n",
    "Analyze the following data: {data}\n",
    "Your job is to answer the following question: {prompt}\n",
    "\"\"\""
   ]
  },
  {
   "cell_type": "code",
   "execution_count": 34,
   "id": "23cb7932-79be-455f-b4fb-83db752d5e43",
   "metadata": {
    "height": 217
   },
   "outputs": [],
   "source": [
    "# code for tool 2\n",
    "def analyze_sales_data(prompt: str, data: str) -> str:\n",
    "    \"\"\"Implementation of AI-powered sales data analysis\"\"\"\n",
    "    formatted_prompt = DATA_ANALYSIS_PROMPT.format(data=data, prompt=prompt)\n",
    "\n",
    "    response = client.chat.completions.create(\n",
    "        model=MODEL,\n",
    "        messages=[{\"role\": \"user\", \"content\": formatted_prompt}],\n",
    "    )\n",
    "    \n",
    "    analysis = response.choices[0].message.content\n",
    "    return analysis if analysis else \"No analysis could be generated\""
   ]
  },
  {
   "cell_type": "markdown",
   "id": "da97ea8e-c101-4e1b-88d0-8ce088590373",
   "metadata": {},
   "source": [
    "This tool is relatively simple, but let's still test it out to be sure things are working correctly."
   ]
  },
  {
   "cell_type": "code",
   "execution_count": 35,
   "id": "18042c0f-ba38-4ebd-925c-9bc7ae0f0b21",
   "metadata": {
    "height": 47
   },
   "outputs": [
    {
     "name": "stdout",
     "output_type": "stream",
     "text": [
      "Analyzing the provided sales data, several trends and observations can be noted:\n",
      "\n",
      "### 1. **Sales Volume and Revenue:**\n",
      "   - The quantity of items sold (`Qty_Sold`) is relatively low overall, with most transactions involving single or few units. For example, many entries show `Qty_Sold` as either 1 or 2. \n",
      "   - However, some transactions reflect a higher quantity, like transaction indices 18 and 19, where 3 units of certain products were sold. This suggests that while individual sales values may be low, they can accumulate in revenue when multiple units are sold.\n",
      "\n",
      "### 2. **Sales Value:**\n",
      "   - The `Total_Sale_Value` varies significantly across products. For many products, the sale values are below $20, indicating a potential focus on lower-priced items.\n",
      "   - A standout example includes SKU `6176200`, which has a total sale value of $99.98 for 2 units sold. This indicates potential interest or demand for certain high-value items, despite them being outnumbered by lower-value sales.\n",
      "\n",
      "### 3. **Promotion Strategy:**\n",
      "   - The `On_Promo` column indicates whether an item was sold with a promotional offer. Here, only one entry (index 29) indicates that the item was sold on promotion, suggesting limited promotional activities or strategies impacting sales during this period.\n",
      "   - The lack of promotions across the majority of entries may imply that price sensitivity or promotional offers are not prominent in driving sales for this store.\n",
      "\n",
      "### 4. **Product Class Trends:**\n",
      "   - Various `Product_Class_Code` categories are observed, with `22800`, `22975`, and `24400` appearing frequently. The repetition of certain product classes across transactions may indicate higher demand or stock of these items.\n",
      "   - Certain classes such as `24425`, represented in multiple entries, may warrant further promotional strategies given their recurrent appearances.\n",
      "\n",
      "### 5. **Temporal Consistency:**\n",
      "   - All transactions are recorded on the same date (November 1, 2021), making it impossible to analyze potential trends over time. However, if this sales data were part of a larger time series dataset, month-over-month or seasonally adjusted analysis could uncover more patterns.\n",
      "\n",
      "### 6. **Outliers and Anomalies:**\n",
      "   - The highest revenue from a single transaction is noteworthy, but generally, most sales fall within a manageable range indicative of lower-priced items. \n",
      "   - On another note, the distribution of sale values can help identify what items are considered mid-range versus high-end by the store.\n",
      "\n",
      "### Recommendations:\n",
      "1. **Promotional Strategy:**\n",
      "   - Given the solitary promotion in the dataset, launching targeted promotions could stimulate sales, especially on items that already show consistent sales activity.\n",
      "   \n",
      "2. **Stock Management:**\n",
      "   - Higher-performing SKU classes should be maintained or increased in stock, while lower-performing classes might be analyzed for possible discontinuation or re-promotion.\n",
      "\n",
      "3. **Price Positioning:**\n",
      "   - Explore whether the pricing strategy is optimized to maximize revenue and attract more sales, perhaps analyzing competitive pricing and elasticity.\n",
      "\n",
      "4. **Dive Deeper:**\n",
      "   - Further analysis could be performed over a longer timeframe to understand seasonal trends, which could enhance inventory and promotional strategies seasonally.\n",
      "\n",
      "Overall, while the single-date dataset presents a limited snapshot, the observations can help guide business decisions regarding stock, promotions, and overall sales strategies for the store.\n"
     ]
    }
   ],
   "source": [
    "print(analyze_sales_data(prompt=\"what trends do you see in this data\", \n",
    "                         data=example_data))"
   ]
  },
  {
   "cell_type": "markdown",
   "id": "0b071118-7538-4e21-a709-f50dcc606260",
   "metadata": {},
   "source": [
    "### Tool 3: Data Visualization"
   ]
  },
  {
   "cell_type": "markdown",
   "id": "1b694537-bafd-4df3-8354-0b6083d3d7ea",
   "metadata": {},
   "source": [
    "The third tool generates python code to create the requested graphs from the returned data of the first tool. It consists of two steps:\n",
    "<img src=\"images/tool3.png\" width=\"500\"/>\n",
    "1. First, it creates the chart configuration: chart type, title, data, lables for x-axis and y-axis (using an LLM call).\n",
    "2. Second, it generates the python code based on the chart configuration of the first step (using an LLM call)."
   ]
  },
  {
   "cell_type": "code",
   "execution_count": 36,
   "id": "5faad9a1-4452-4b89-98e6-c6a8a09f98cf",
   "metadata": {
    "height": 98
   },
   "outputs": [],
   "source": [
    "# prompt template for step 1 of tool 3\n",
    "CHART_CONFIGURATION_PROMPT = \"\"\"\n",
    "Generate a chart configuration based on this data: {data}\n",
    "The goal is to show: {visualization_goal}\n",
    "\"\"\""
   ]
  },
  {
   "cell_type": "code",
   "execution_count": 37,
   "id": "cd462935-d2c5-4de1-a094-b7bdf951cd66",
   "metadata": {
    "height": 115
   },
   "outputs": [],
   "source": [
    "# class defining the response format of step 1 of tool 3\n",
    "class VisualizationConfig(BaseModel):\n",
    "    chart_type: str = Field(..., description=\"Type of chart to generate\")\n",
    "    x_axis: str = Field(..., description=\"Name of the x-axis column\")\n",
    "    y_axis: str = Field(..., description=\"Name of the y-axis column\")\n",
    "    title: str = Field(..., description=\"Title of the chart\")"
   ]
  },
  {
   "cell_type": "code",
   "execution_count": 38,
   "id": "3396ccea-1e06-42fa-a667-2d8fc8332df7",
   "metadata": {
    "height": 693
   },
   "outputs": [],
   "source": [
    "# code for step 1 of tool 3\n",
    "def extract_chart_config(data: str, visualization_goal: str) -> dict:\n",
    "    \"\"\"Generate chart visualization configuration\n",
    "    \n",
    "    Args:\n",
    "        data: String containing the data to visualize\n",
    "        visualization_goal: Description of what the visualization should show\n",
    "        \n",
    "    Returns:\n",
    "        Dictionary containing line chart configuration\n",
    "    \"\"\"\n",
    "    formatted_prompt = CHART_CONFIGURATION_PROMPT.format(data=data,\n",
    "                                                         visualization_goal=visualization_goal)\n",
    "    \n",
    "    response = client.beta.chat.completions.parse(\n",
    "        model=MODEL,\n",
    "        messages=[{\"role\": \"user\", \"content\": formatted_prompt}],\n",
    "        response_format=VisualizationConfig,\n",
    "    )\n",
    "    \n",
    "    try:\n",
    "        # Extract axis and title info from response\n",
    "        content = response.choices[0].message.content\n",
    "        \n",
    "        # Return structured chart config\n",
    "        return {\n",
    "            \"chart_type\": content.chart_type,\n",
    "            \"x_axis\": content.x_axis,\n",
    "            \"y_axis\": content.y_axis,\n",
    "            \"title\": content.title,\n",
    "            \"data\": data\n",
    "        }\n",
    "    except Exception:\n",
    "        return {\n",
    "            \"chart_type\": \"line\", \n",
    "            \"x_axis\": \"date\",\n",
    "            \"y_axis\": \"value\",\n",
    "            \"title\": visualization_goal,\n",
    "            \"data\": data\n",
    "        }"
   ]
  },
  {
   "cell_type": "code",
   "execution_count": 39,
   "id": "b0473365-8fb6-4e30-962d-9599cf514323",
   "metadata": {
    "height": 115
   },
   "outputs": [],
   "source": [
    "# prompt template for step 2 of tool 3\n",
    "CREATE_CHART_PROMPT = \"\"\"\n",
    "Write python code to create a chart based on the following configuration.\n",
    "Only return the code, no other text.\n",
    "config: {config}\n",
    "\"\"\""
   ]
  },
  {
   "cell_type": "code",
   "execution_count": 40,
   "id": "0832853e-e7dd-44eb-8fec-8f4524b9baa4",
   "metadata": {
    "height": 268
   },
   "outputs": [],
   "source": [
    "# code for step 2 of tool 3\n",
    "def create_chart(config: dict) -> str:\n",
    "    \"\"\"Create a chart based on the configuration\"\"\"\n",
    "    formatted_prompt = CREATE_CHART_PROMPT.format(config=config)\n",
    "    \n",
    "    response = client.chat.completions.create(\n",
    "        model=MODEL,\n",
    "        messages=[{\"role\": \"user\", \"content\": formatted_prompt}],\n",
    "    )\n",
    "    \n",
    "    code = response.choices[0].message.content\n",
    "    code = code.replace(\"```python\", \"\").replace(\"```\", \"\")\n",
    "    code = code.strip()\n",
    "    \n",
    "    return code"
   ]
  },
  {
   "cell_type": "code",
   "execution_count": 41,
   "id": "0e4e96e8-0ec3-4580-be1e-d239d26c609b",
   "metadata": {
    "height": 115
   },
   "outputs": [],
   "source": [
    "# code for tool 3\n",
    "def generate_visualization(data: str, visualization_goal: str) -> str:\n",
    "    \"\"\"Generate a visualization based on the data and goal\"\"\"\n",
    "    config = extract_chart_config(data, visualization_goal)\n",
    "    code = create_chart(config)\n",
    "    return code"
   ]
  },
  {
   "cell_type": "markdown",
   "id": "7675259b-2978-4f08-bffa-804f0a65395c",
   "metadata": {},
   "source": [
    "Great, now let's try the third tool out:"
   ]
  },
  {
   "cell_type": "code",
   "execution_count": 42,
   "id": "001d0743-5b02-4cfc-a6a4-5b0bba80ea30",
   "metadata": {
    "height": 79
   },
   "outputs": [
    {
     "name": "stdout",
     "output_type": "stream",
     "text": [
      "import pandas as pd\n",
      "import matplotlib.pyplot as plt\n",
      "import io\n",
      "\n",
      "data = \"\"\"Store_Number,SKU_Coded,Product_Class_Code,Sold_Date,Qty_Sold,Total_Sale_Value,On_Promo\n",
      "1320,6173050,22875,2021-11-01,1,4.99,0\n",
      "1320,6174250,22875,2021-11-01,1,0.89,0\n",
      "1320,6176200,22975,2021-11-01,2,99.98,0\n",
      "1320,6176800,22800,2021-11-01,1,14.97,0\n",
      "1320,6177250,22975,2021-11-01,1,6.89,0\n",
      "1320,6177300,22800,2021-11-01,1,9.99,0\n",
      "1320,6177350,22800,2021-11-01,2,16.98,0\n",
      "1320,6177700,22875,2021-11-01,1,3.19,0\n",
      "1320,6178000,22875,2021-11-01,2,6.38,0\n",
      "1320,6178250,22800,2021-11-01,1,16.59,0\n",
      "1320,6179250,24400,2021-11-01,1,14.99,0\n",
      "1320,6179300,22800,2021-11-01,2,9.98,0\n",
      "1320,6179400,24400,2021-11-01,2,29.98,0\n",
      "1320,6179450,24400,2021-11-01,1,14.99,0\n",
      "1320,6179500,24400,2021-11-01,1,14.99,0\n",
      "1320,6179750,22800,2021-11-01,2,39.98,0\n",
      "1320,6180550,22975,2021-11-01,1,15.99,0\n",
      "1320,6182050,22975,2021-11-01,1,7.99,0\n",
      "1320,6183750,22850,2021-11-01,3,38.97,0\n",
      "1320,6184100,22975,2021-11-01,3,59.97,0\n",
      "1320,6188550,22950,2021-11-01,2,15.98,0\n",
      "1320,6190050,24425,2021-11-01,5,19.95,0\n",
      "1320,6190150,24425,2021-11-01,1,8.99,0\n",
      "1320,6190200,24425,2021-11-01,1,8.99,0\n",
      "1320,6190250,24425,2021-11-01,1,7.99,0\n",
      "1320,6190350,22950,2021-11-01,1,6.99,0\n",
      "1320,6190400,22950,2021-11-01,1,6.99,0\n",
      "1320,6193750,22875,2021-11-01,1,6.99,0\n",
      "1320,6195350,24375,2021-11-01,1,16.99,0\n",
      "1320,6195800,22850,2021-11-01,3,25.72,1\n",
      "\"\"\"\n",
      "\n",
      "df = pd.read_csv(io.StringIO(data), parse_dates=['Sold_Date'])\n",
      "\n",
      "plt.figure(figsize=(10, 5))\n",
      "plt.plot(df['Sold_Date'], df['Total_Sale_Value'], marker='o')\n",
      "plt.title('A bar chart of sales by product SKU. Put the product SKU on the x-axis and the sales on the y-axis.')\n",
      "plt.xlabel('Date')\n",
      "plt.ylabel('Total Sale Value')\n",
      "plt.grid()\n",
      "plt.xticks(rotation=45)\n",
      "plt.tight_layout()\n",
      "plt.show()\n"
     ]
    }
   ],
   "source": [
    "code = generate_visualization(example_data, \n",
    "                              \"A bar chart of sales by product SKU. Put the product SKU on the x-axis and the sales on the y-axis.\")\n",
    "print(code)"
   ]
  },
  {
   "cell_type": "code",
   "execution_count": 43,
   "id": "8a56266f-790d-4208-9788-02cab6cabfe9",
   "metadata": {
    "height": 30
   },
   "outputs": [
    {
     "data": {
      "image/png": "[encoded data removed]",
      "text/plain": [
       "<Figure size 1000x500 with 1 Axes>"
      ]
     },
     "metadata": {},
     "output_type": "display_data"
    }
   ],
   "source": [
    "exec(code)"
   ]
  },
  {
   "cell_type": "markdown",
   "id": "bdd7653b-a90d-4447-9b6b-646b00e5164b",
   "metadata": {},
   "source": [
    "## Defining the Router"
   ]
  },
  {
   "cell_type": "markdown",
   "id": "b823b2a6-1567-4a03-b829-22f6a3e167ea",
   "metadata": {},
   "source": [
    "Now that all of the tools are defined, you can create the router. The router will take the original user input, and is responsible for calling any tools. After each tool call is completed, the agent will return to router to determine whether another tool should be called."
   ]
  },
  {
   "cell_type": "markdown",
   "id": "d658c1a5-6328-4ca1-bdcf-7c03328aa0c8",
   "metadata": {},
   "source": [
    "### Tool Schema"
   ]
  },
  {
   "cell_type": "markdown",
   "id": "adf85e6a-c708-4ed5-8f43-e996c5f38c7f",
   "metadata": {},
   "source": [
    "Let's define the tools in a way that can be understood by our OpenAI model. OpenAI understands a specific JSON format:"
   ]
  },
  {
   "cell_type": "code",
   "execution_count": 44,
   "id": "d35f5886-32d7-4bc3-968b-4485ce20d7a3",
   "metadata": {
    "height": 946
   },
   "outputs": [],
   "source": [
    "# Define tools/functions that can be called by the model\n",
    "tools = [\n",
    "    {\n",
    "        \"type\": \"function\",\n",
    "        \"function\": {\n",
    "            \"name\": \"lookup_sales_data\",\n",
    "            \"description\": \"Look up data from Store Sales Price Elasticity Promotions dataset\",\n",
    "            \"parameters\": {\n",
    "                \"type\": \"object\",\n",
    "                \"properties\": {\n",
    "                    \"prompt\": {\"type\": \"string\", \"description\": \"The unchanged prompt that the user provided.\"}\n",
    "                },\n",
    "                \"required\": [\"prompt\"]\n",
    "            }\n",
    "        }\n",
    "    },\n",
    "    {\n",
    "        \"type\": \"function\",\n",
    "        \"function\": {\n",
    "            \"name\": \"analyze_sales_data\", \n",
    "            \"description\": \"Analyze sales data to extract insights\",\n",
    "            \"parameters\": {\n",
    "                \"type\": \"object\",\n",
    "                \"properties\": {\n",
    "                    \"data\": {\"type\": \"string\", \"description\": \"The lookup_sales_data tool's output.\"},\n",
    "                    \"prompt\": {\"type\": \"string\", \"description\": \"The unchanged prompt that the user provided.\"}\n",
    "                },\n",
    "                \"required\": [\"data\", \"prompt\"]\n",
    "            }\n",
    "        }\n",
    "    },\n",
    "    {\n",
    "        \"type\": \"function\",\n",
    "        \"function\": {\n",
    "            \"name\": \"generate_visualization\",\n",
    "            \"description\": \"Generate Python code to create data visualizations\",\n",
    "            \"parameters\": {\n",
    "                \"type\": \"object\", \n",
    "                \"properties\": {\n",
    "                    \"data\": {\"type\": \"string\", \"description\": \"The lookup_sales_data tool's output.\"},\n",
    "                    \"visualization_goal\": {\"type\": \"string\", \"description\": \"The goal of the visualization.\"}\n",
    "                },\n",
    "                \"required\": [\"data\", \"visualization_goal\"]\n",
    "            }\n",
    "        }\n",
    "    }\n",
    "]\n",
    "\n",
    "# Dictionary mapping function names to their implementations\n",
    "tool_implementations = {\n",
    "    \"lookup_sales_data\": lookup_sales_data,\n",
    "    \"analyze_sales_data\": analyze_sales_data, \n",
    "    \"generate_visualization\": generate_visualization\n",
    "}"
   ]
  },
  {
   "cell_type": "markdown",
   "id": "8291cea7-d45f-429c-845a-53ba8cfc7485",
   "metadata": {},
   "source": [
    "### Router Logic"
   ]
  },
  {
   "cell_type": "markdown",
   "id": "8a7edb47-99cc-45d0-8d13-5d6238aee2a2",
   "metadata": {},
   "source": [
    "The router is composed of a main loop method, and a method to handle the tool calls that you get back from the model.\n",
    "\n",
    "<img src=\"images/router.png\" width=\"800\"/>"
   ]
  },
  {
   "cell_type": "markdown",
   "id": "77f87aa9",
   "metadata": {},
   "source": [
    "The following two cells define the function `handle_tool_calls` and the variable `SYSTEM_PROMPT`, which will be used by the function `run_agent` defining the router logic."
   ]
  },
  {
   "cell_type": "code",
   "execution_count": 57,
   "id": "ce938658-35c9-4cda-b0d8-0b89494830c4",
   "metadata": {
    "height": 183
   },
   "outputs": [],
   "source": [
    "# code for executing the tools returned in the model's response\n",
    "def handle_tool_calls(tool_calls, messages):\n",
    "    \n",
    "    for tool_call in tool_calls:\n",
    "        print (f\"Tool call: {tool_call}\")\n",
    "\n",
    "        function = tool_implementations[tool_call.function.name]\n",
    "        print (f\"Function: {function}\")\n",
    "        function_args = json.loads(tool_call.function.arguments)\n",
    "        print (f\"Function args: {function_args}\")\n",
    "        result = function(**function_args)\n",
    "        messages.append({\"role\": \"tool\", \"content\": result, \"tool_call_id\": tool_call.id})\n",
    "        \n",
    "    return messages"
   ]
  },
  {
   "cell_type": "code",
   "execution_count": 46,
   "id": "5b24bce5-477f-4e21-af18-4b784282aaa1",
   "metadata": {
    "height": 79
   },
   "outputs": [],
   "source": [
    "SYSTEM_PROMPT = \"\"\"\n",
    "You are a helpful assistant that can answer questions about the Store Sales Price Elasticity Promotions dataset.\n",
    "\"\"\""
   ]
  },
  {
   "cell_type": "code",
   "execution_count": 60,
   "id": "f0eacdb0-d8c4-4686-9fda-7b7c12ae2c35",
   "metadata": {
    "height": 540
   },
   "outputs": [],
   "source": [
    "def run_agent(messages):\n",
    "    print(\"Running agent with messages:\", messages)\n",
    "\n",
    "    if isinstance(messages, str):\n",
    "        messages = [{\"role\": \"user\", \"content\": messages}]\n",
    "        \n",
    "    # Check and add system prompt if needed\n",
    "    if not any(\n",
    "            isinstance(message, dict) and message.get(\"role\") == \"system\" for message in messages\n",
    "        ):\n",
    "            system_prompt = {\"role\": \"system\", \"content\": SYSTEM_PROMPT}\n",
    "            messages.append(system_prompt)\n",
    "\n",
    "    while True:\n",
    "        print(\"Making router call to OpenAI\")\n",
    "        # print(\"Messages:\", messages)\n",
    "        # print (\"Tools:\", tools) \n",
    "\n",
    "        response = client.chat.completions.create(\n",
    "            model=MODEL,\n",
    "            messages=messages,\n",
    "            tools=tools,\n",
    "        )\n",
    "        messages.append(response.choices[0].message)\n",
    "        tool_calls = response.choices[0].message.tool_calls\n",
    "        # print(\"Tool calls:\", tool_calls)\n",
    "        print(\"Received response with tool calls:\", bool(tool_calls))\n",
    "\n",
    "        # if the model decides to call function(s), call handle_tool_calls\n",
    "        if tool_calls:\n",
    "            print(\"Processing tool calls\")\n",
    "            messages = handle_tool_calls(tool_calls, messages)\n",
    "        else:\n",
    "            print(\"No tool calls, returning final response\")\n",
    "            return response.choices[0].message.content"
   ]
  },
  {
   "cell_type": "code",
   "execution_count": 61,
   "id": "d5bb8861-7304-4d4a-ac8b-6ca1d7193e59",
   "metadata": {
    "height": 45
   },
   "outputs": [
    {
     "name": "stdout",
     "output_type": "stream",
     "text": [
      "Running agent with messages: Show me the code for graph of sales by store in Nov 2021, and tell me what trends you see.\n",
      "Making router call to OpenAI\n",
      "Received response with tool calls: True\n",
      "Processing tool calls\n",
      "Tool call: ChatCompletionMessageToolCall(id='call_eVSvwjzuwshHh5EZtdo9Xr3I', function=Function(arguments='{\"prompt\":\"Show me the sales data by store for November 2021.\"}', name='lookup_sales_data'), type='function')\n",
      "Function: <function lookup_sales_data at 0x160968540>\n",
      "Function args: {'prompt': 'Show me the sales data by store for November 2021.'}\n",
      "Making router call to OpenAI\n",
      "Received response with tool calls: True\n",
      "Processing tool calls\n",
      "Tool call: ChatCompletionMessageToolCall(id='call_Ba13zl7YTn3lrFHVpjPrLRQa', function=Function(arguments='{\"data\":\"{\\'Store_Number\\':[2640,2090,4840,3080,1320,1540,4070,4730,880,4180,550,1650,1210,2750,1760,1980,330,1100,3300,3190,2420,660,770,990,3410,2970,2530,3740,4400,2200,2310,1870,3630],\\'Total_Qty_Sold\\':[1005.0,1080.0,1612.0,1454.0,1701.0,1801.0,932.0,819.0,1525.0,913.0,764.0,1770.0,1821.0,1462.0,1207.0,893.0,1105.0,1712.0,1859.0,1003.0,1370.0,1208.0,973.0,1280.0,1345.0,2312.0,890.0,949.0,225.0,1513.0,1594.0,1648.0,1311.0],\\'Total_Sale_Value\\':[10891.639931,11617.179888,19127.169971,18044.450005,19553.789981,21207.689942,9161.409921,10571.779962,17753.769956,10213.819920,9554.049975,23186.909958,21021.669984,16310.409961,14598.209948,9084.959929,12569.599911,19298.679917,23730.719905,11934.999961,15234.709888,13041.239901,9181.769959,15101.459945,15982.159946,31000.569969,11139.740003,10719.049952,4390.689987,16854.439921,16611.539945,17091.849894,14202.299958]}\",\"visualization_goal\":\"Create a graph of total sales and total quantity sold by store.\"}', name='generate_visualization'), type='function')\n",
      "Function: <function generate_visualization at 0x1609682c0>\n",
      "Function args: {'data': \"{'Store_Number':[2640,2090,4840,3080,1320,1540,4070,4730,880,4180,550,1650,1210,2750,1760,1980,330,1100,3300,3190,2420,660,770,990,3410,2970,2530,3740,4400,2200,2310,1870,3630],'Total_Qty_Sold':[1005.0,1080.0,1612.0,1454.0,1701.0,1801.0,932.0,819.0,1525.0,913.0,764.0,1770.0,1821.0,1462.0,1207.0,893.0,1105.0,1712.0,1859.0,1003.0,1370.0,1208.0,973.0,1280.0,1345.0,2312.0,890.0,949.0,225.0,1513.0,1594.0,1648.0,1311.0],'Total_Sale_Value':[10891.639931,11617.179888,19127.169971,18044.450005,19553.789981,21207.689942,9161.409921,10571.779962,17753.769956,10213.819920,9554.049975,23186.909958,21021.669984,16310.409961,14598.209948,9084.959929,12569.599911,19298.679917,23730.719905,11934.999961,15234.709888,13041.239901,9181.769959,15101.459945,15982.159946,31000.569969,11139.740003,10719.049952,4390.689987,16854.439921,16611.539945,17091.849894,14202.299958]}\", 'visualization_goal': 'Create a graph of total sales and total quantity sold by store.'}\n",
      "Making router call to OpenAI\n",
      "Received response with tool calls: False\n",
      "No tool calls, returning final response\n"
     ]
    }
   ],
   "source": [
    "result = run_agent('Show me the code for graph of sales by store in Nov 2021, and tell me what trends you see.')"
   ]
  },
  {
   "cell_type": "code",
   "execution_count": 49,
   "id": "b1a59674-5bb3-4983-95ca-809e26743e87",
   "metadata": {
    "height": 64
   },
   "outputs": [
    {
     "name": "stdout",
     "output_type": "stream",
     "text": [
      "### Code for Graph of Sales by Store in November 2021\n",
      "\n",
      "Here's the Python code to create a line graph of sales by store for November 2021:\n",
      "\n",
      "```python\n",
      "import pandas as pd\n",
      "import matplotlib.pyplot as plt\n",
      "from io import StringIO\n",
      "\n",
      "# Data configuration\n",
      "data = '''\n",
      "Store_Number  Total_Qty_Sold  Total_Sale_Value\n",
      "880          1525.0      17753.769956\n",
      "4180           913.0      10213.819920\n",
      "550           764.0       9554.049975\n",
      "1650          1770.0      23186.909958\n",
      "2640          1005.0      10891.639931\n",
      "2090          1080.0      11617.179888\n",
      "4840          1612.0      19127.169971\n",
      "3080          1454.0      18044.450005\n",
      "1320          1701.0      19553.789981\n",
      "1540          1801.0      21207.689942\n",
      "4070           932.0       9161.409921\n",
      "4730           819.0      10571.779962\n",
      "2420          1370.0      15234.709888\n",
      "660          1208.0      13041.239901\n",
      "770           973.0       9181.769959\n",
      "990          1280.0      15101.459945\n",
      "3410          1345.0      15982.159946\n",
      "2970          2312.0      31000.569969\n",
      "2530           890.0      11139.740003\n",
      "3740           949.0      10719.049952\n",
      "4400           225.0       4390.689987\n",
      "2200          1513.0      16854.439921\n",
      "2310          1594.0      16611.539945\n",
      "1870          1648.0      17091.849894\n",
      "3630          1311.0      14202.299958\n",
      "1210          1821.0      21021.669984\n",
      "2750          1462.0      16310.409961\n",
      "1760          1207.0      14598.209948\n",
      "1980           893.0       9084.959929\n",
      "330          1105.0      12569.599911\n",
      "1100          1712.0      19298.679917\n",
      "3300          1859.0      23730.719905\n",
      "3190          1003.0      11934.999961\n",
      "'''\n",
      "\n",
      "# Load data into DataFrame\n",
      "data = pd.read_csv(StringIO(data), sep=\"\\s+\")\n",
      "\n",
      "# Plotting\n",
      "plt.figure(figsize=(10, 6))\n",
      "plt.plot(data['Store_Number'], data['Total_Sale_Value'], marker='o')\n",
      "plt.title('Sales by Store in November 2021')\n",
      "plt.xlabel('Store Number')\n",
      "plt.ylabel('Total Sale Value')\n",
      "plt.grid()\n",
      "plt.xticks(data['Store_Number'], rotation=45)\n",
      "plt.tight_layout()\n",
      "\n",
      "# Show plot\n",
      "plt.show()\n",
      "```\n",
      "\n",
      "### Observed Trends in Sales Data\n",
      "\n",
      "1. **Sales Performance**:\n",
      "   - **Top Performers**: Store 2970 has the highest total sale value ($31,000.57) and the highest quantity sold (2312).\n",
      "   - **Lowest Performers**: Store 4400 shows the lowest total sale value ($4,390.69) and quantity sold (225).\n",
      "\n",
      "2. **Correlation Between Quantity and Value**:\n",
      "   - There’s generally a positive correlation where stores with higher quantities tend to have higher sales values. However, some stores do have high sale values with comparatively lower quantities sold.\n",
      "\n",
      "3. **Outliers**:\n",
      "   - Store 2970 is notably a strong performer, diverging from other stores. Investigating its product mix or pricing strategies may offer insights to replicate this success.\n",
      "\n",
      "4. **Average Sale Values**:\n",
      "   - Evaluating the average sale price per unit can provide insights into which stores focus on high-margin items versus high-volume sales.\n",
      "\n",
      "5. **Moderate Performers**: \n",
      "   - Several stores hover in the middle range for both quantity sold and total sales, indicating stable but unremarkable performance.\n",
      "\n",
      "This analysis can help identify best practices from top-performing stores and areas for improvement for those underperforming. Further investigation into customer demographics and pricing strategies may yield additional insights.\n"
     ]
    }
   ],
   "source": [
    "print(result)\n",
    "# you can also print a formatted version of the result\n",
    "# Markdown(result)"
   ]
  },
  {
   "cell_type": "markdown",
   "id": "efa963d4-77da-4f5b-b8bf-6cb305929e2b",
   "metadata": {},
   "source": [
    "<div style=\"background-color:#fff6ff; padding:13px; border-width:3px; border-color:#efe6ef; border-style:solid; border-radius:6px\">\n",
    "\n",
    "<p> ⬇ &nbsp; <b>Download Notebooks:</b> 1) click on the <em>\"File\"</em> option on the top menu of the notebook and then 2) click on <em>\"Download as\"</em> and select <em>\"Notebook (.ipynb)\"</em>.</p>\n",
    "\n",
    "<p> 📒 &nbsp; For more help, please see the <em>\"Appendix – Tips, Help, and Download\"</em> Lesson.</p>\n",
    "\n",
    "</div>"
   ]
  }
 ],
 "metadata": {
  "kernelspec": {
   "display_name": "evalagent",
   "language": "python",
   "name": "python3"
  },
  "language_info": {
   "codemirror_mode": {
    "name": "ipython",
    "version": 3
   },
   "file_extension": ".py",
   "mimetype": "text/x-python",
   "name": "python",
   "nbconvert_exporter": "python",
   "pygments_lexer": "ipython3",
   "version": "3.11.9"
  }
 },
 "nbformat": 4,
 "nbformat_minor": 5
}
