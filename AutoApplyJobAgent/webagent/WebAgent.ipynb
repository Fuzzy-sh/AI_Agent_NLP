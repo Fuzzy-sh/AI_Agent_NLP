{
 "cells": [
  {
   "cell_type": "markdown",
   "id": "0fa8e492-02ba-4f04-aa53-2aaf34300d67",
   "metadata": {},
   "source": [
    "Building a Simple Web Agent"
   ]
  },
  {
   "cell_type": "code",
   "execution_count": 1,
   "id": "ca01fc5a-2140-4a9e-9d6e-4ab476451c41",
   "metadata": {
    "height": 268
   },
   "outputs": [
    {
     "ename": "ValueError",
     "evalue": "numpy.dtype size changed, may indicate binary incompatibility. Expected 96 from C header, got 88 from PyObject",
     "output_type": "error",
     "traceback": [
      "\u001b[31m---------------------------------------------------------------------------\u001b[39m",
      "\u001b[31mValueError\u001b[39m                                Traceback (most recent call last)",
      "\u001b[36mCell\u001b[39m\u001b[36m \u001b[39m\u001b[32mIn[1]\u001b[39m\u001b[32m, line 8\u001b[39m\n\u001b[32m      6\u001b[39m \u001b[38;5;28;01mimport\u001b[39;00m\u001b[38;5;250m \u001b[39m\u001b[34;01mbase64\u001b[39;00m\n\u001b[32m      7\u001b[39m \u001b[38;5;28;01mfrom\u001b[39;00m\u001b[38;5;250m \u001b[39m\u001b[34;01mio\u001b[39;00m\u001b[38;5;250m \u001b[39m\u001b[38;5;28;01mimport\u001b[39;00m BytesIO\n\u001b[32m----> \u001b[39m\u001b[32m8\u001b[39m \u001b[38;5;28;01mimport\u001b[39;00m\u001b[38;5;250m \u001b[39m\u001b[34;01mpandas\u001b[39;00m\u001b[38;5;250m \u001b[39m\u001b[38;5;28;01mas\u001b[39;00m\u001b[38;5;250m \u001b[39m\u001b[34;01mpd\u001b[39;00m\n\u001b[32m      9\u001b[39m \u001b[38;5;28;01mfrom\u001b[39;00m\u001b[38;5;250m \u001b[39m\u001b[34;01mplaywright\u001b[39;00m\u001b[34;01m.\u001b[39;00m\u001b[34;01masync_api\u001b[39;00m\u001b[38;5;250m \u001b[39m\u001b[38;5;28;01mimport\u001b[39;00m async_playwright\n\u001b[32m     10\u001b[39m \u001b[38;5;28;01mfrom\u001b[39;00m\u001b[38;5;250m \u001b[39m\u001b[34;01mopenai\u001b[39;00m\u001b[38;5;250m \u001b[39m\u001b[38;5;28;01mimport\u001b[39;00m OpenAI\n",
      "\u001b[36mFile \u001b[39m\u001b[32m/opt/anaconda3/envs/rag/lib/python3.11/site-packages/pandas/__init__.py:49\u001b[39m\n\u001b[32m     46\u001b[39m \u001b[38;5;66;03m# let init-time option registration happen\u001b[39;00m\n\u001b[32m     47\u001b[39m \u001b[38;5;28;01mimport\u001b[39;00m\u001b[38;5;250m \u001b[39m\u001b[34;01mpandas\u001b[39;00m\u001b[34;01m.\u001b[39;00m\u001b[34;01mcore\u001b[39;00m\u001b[34;01m.\u001b[39;00m\u001b[34;01mconfig_init\u001b[39;00m  \u001b[38;5;66;03m# pyright: ignore[reportUnusedImport] # noqa: F401\u001b[39;00m\n\u001b[32m---> \u001b[39m\u001b[32m49\u001b[39m \u001b[38;5;28;01mfrom\u001b[39;00m\u001b[38;5;250m \u001b[39m\u001b[34;01mpandas\u001b[39;00m\u001b[34;01m.\u001b[39;00m\u001b[34;01mcore\u001b[39;00m\u001b[34;01m.\u001b[39;00m\u001b[34;01mapi\u001b[39;00m\u001b[38;5;250m \u001b[39m\u001b[38;5;28;01mimport\u001b[39;00m (\n\u001b[32m     50\u001b[39m     \u001b[38;5;66;03m# dtype\u001b[39;00m\n\u001b[32m     51\u001b[39m     ArrowDtype,\n\u001b[32m     52\u001b[39m     Int8Dtype,\n\u001b[32m     53\u001b[39m     Int16Dtype,\n\u001b[32m     54\u001b[39m     Int32Dtype,\n\u001b[32m     55\u001b[39m     Int64Dtype,\n\u001b[32m     56\u001b[39m     UInt8Dtype,\n\u001b[32m     57\u001b[39m     UInt16Dtype,\n\u001b[32m     58\u001b[39m     UInt32Dtype,\n\u001b[32m     59\u001b[39m     UInt64Dtype,\n\u001b[32m     60\u001b[39m     Float32Dtype,\n\u001b[32m     61\u001b[39m     Float64Dtype,\n\u001b[32m     62\u001b[39m     CategoricalDtype,\n\u001b[32m     63\u001b[39m     PeriodDtype,\n\u001b[32m     64\u001b[39m     IntervalDtype,\n\u001b[32m     65\u001b[39m     DatetimeTZDtype,\n\u001b[32m     66\u001b[39m     StringDtype,\n\u001b[32m     67\u001b[39m     BooleanDtype,\n\u001b[32m     68\u001b[39m     \u001b[38;5;66;03m# missing\u001b[39;00m\n\u001b[32m     69\u001b[39m     NA,\n\u001b[32m     70\u001b[39m     isna,\n\u001b[32m     71\u001b[39m     isnull,\n\u001b[32m     72\u001b[39m     notna,\n\u001b[32m     73\u001b[39m     notnull,\n\u001b[32m     74\u001b[39m     \u001b[38;5;66;03m# indexes\u001b[39;00m\n\u001b[32m     75\u001b[39m     Index,\n\u001b[32m     76\u001b[39m     CategoricalIndex,\n\u001b[32m     77\u001b[39m     RangeIndex,\n\u001b[32m     78\u001b[39m     MultiIndex,\n\u001b[32m     79\u001b[39m     IntervalIndex,\n\u001b[32m     80\u001b[39m     TimedeltaIndex,\n\u001b[32m     81\u001b[39m     DatetimeIndex,\n\u001b[32m     82\u001b[39m     PeriodIndex,\n\u001b[32m     83\u001b[39m     IndexSlice,\n\u001b[32m     84\u001b[39m     \u001b[38;5;66;03m# tseries\u001b[39;00m\n\u001b[32m     85\u001b[39m     NaT,\n\u001b[32m     86\u001b[39m     Period,\n\u001b[32m     87\u001b[39m     period_range,\n\u001b[32m     88\u001b[39m     Timedelta,\n\u001b[32m     89\u001b[39m     timedelta_range,\n\u001b[32m     90\u001b[39m     Timestamp,\n\u001b[32m     91\u001b[39m     date_range,\n\u001b[32m     92\u001b[39m     bdate_range,\n\u001b[32m     93\u001b[39m     Interval,\n\u001b[32m     94\u001b[39m     interval_range,\n\u001b[32m     95\u001b[39m     DateOffset,\n\u001b[32m     96\u001b[39m     \u001b[38;5;66;03m# conversion\u001b[39;00m\n\u001b[32m     97\u001b[39m     to_numeric,\n\u001b[32m     98\u001b[39m     to_datetime,\n\u001b[32m     99\u001b[39m     to_timedelta,\n\u001b[32m    100\u001b[39m     \u001b[38;5;66;03m# misc\u001b[39;00m\n\u001b[32m    101\u001b[39m     Flags,\n\u001b[32m    102\u001b[39m     Grouper,\n\u001b[32m    103\u001b[39m     factorize,\n\u001b[32m    104\u001b[39m     unique,\n\u001b[32m    105\u001b[39m     value_counts,\n\u001b[32m    106\u001b[39m     NamedAgg,\n\u001b[32m    107\u001b[39m     array,\n\u001b[32m    108\u001b[39m     Categorical,\n\u001b[32m    109\u001b[39m     set_eng_float_format,\n\u001b[32m    110\u001b[39m     Series,\n\u001b[32m    111\u001b[39m     DataFrame,\n\u001b[32m    112\u001b[39m )\n\u001b[32m    114\u001b[39m \u001b[38;5;28;01mfrom\u001b[39;00m\u001b[38;5;250m \u001b[39m\u001b[34;01mpandas\u001b[39;00m\u001b[34;01m.\u001b[39;00m\u001b[34;01mcore\u001b[39;00m\u001b[34;01m.\u001b[39;00m\u001b[34;01mdtypes\u001b[39;00m\u001b[34;01m.\u001b[39;00m\u001b[34;01mdtypes\u001b[39;00m\u001b[38;5;250m \u001b[39m\u001b[38;5;28;01mimport\u001b[39;00m SparseDtype\n\u001b[32m    116\u001b[39m \u001b[38;5;28;01mfrom\u001b[39;00m\u001b[38;5;250m \u001b[39m\u001b[34;01mpandas\u001b[39;00m\u001b[34;01m.\u001b[39;00m\u001b[34;01mtseries\u001b[39;00m\u001b[34;01m.\u001b[39;00m\u001b[34;01mapi\u001b[39;00m\u001b[38;5;250m \u001b[39m\u001b[38;5;28;01mimport\u001b[39;00m infer_freq\n",
      "\u001b[36mFile \u001b[39m\u001b[32m/opt/anaconda3/envs/rag/lib/python3.11/site-packages/pandas/core/api.py:1\u001b[39m\n\u001b[32m----> \u001b[39m\u001b[32m1\u001b[39m \u001b[38;5;28;01mfrom\u001b[39;00m\u001b[38;5;250m \u001b[39m\u001b[34;01mpandas\u001b[39;00m\u001b[34;01m.\u001b[39;00m\u001b[34;01m_libs\u001b[39;00m\u001b[38;5;250m \u001b[39m\u001b[38;5;28;01mimport\u001b[39;00m (\n\u001b[32m      2\u001b[39m     NaT,\n\u001b[32m      3\u001b[39m     Period,\n\u001b[32m      4\u001b[39m     Timedelta,\n\u001b[32m      5\u001b[39m     Timestamp,\n\u001b[32m      6\u001b[39m )\n\u001b[32m      7\u001b[39m \u001b[38;5;28;01mfrom\u001b[39;00m\u001b[38;5;250m \u001b[39m\u001b[34;01mpandas\u001b[39;00m\u001b[34;01m.\u001b[39;00m\u001b[34;01m_libs\u001b[39;00m\u001b[34;01m.\u001b[39;00m\u001b[34;01mmissing\u001b[39;00m\u001b[38;5;250m \u001b[39m\u001b[38;5;28;01mimport\u001b[39;00m NA\n\u001b[32m      9\u001b[39m \u001b[38;5;28;01mfrom\u001b[39;00m\u001b[38;5;250m \u001b[39m\u001b[34;01mpandas\u001b[39;00m\u001b[34;01m.\u001b[39;00m\u001b[34;01mcore\u001b[39;00m\u001b[34;01m.\u001b[39;00m\u001b[34;01mdtypes\u001b[39;00m\u001b[34;01m.\u001b[39;00m\u001b[34;01mdtypes\u001b[39;00m\u001b[38;5;250m \u001b[39m\u001b[38;5;28;01mimport\u001b[39;00m (\n\u001b[32m     10\u001b[39m     ArrowDtype,\n\u001b[32m     11\u001b[39m     CategoricalDtype,\n\u001b[32m   (...)\u001b[39m\u001b[32m     14\u001b[39m     PeriodDtype,\n\u001b[32m     15\u001b[39m )\n",
      "\u001b[36mFile \u001b[39m\u001b[32m/opt/anaconda3/envs/rag/lib/python3.11/site-packages/pandas/_libs/__init__.py:18\u001b[39m\n\u001b[32m     16\u001b[39m \u001b[38;5;28;01mimport\u001b[39;00m\u001b[38;5;250m \u001b[39m\u001b[34;01mpandas\u001b[39;00m\u001b[34;01m.\u001b[39;00m\u001b[34;01m_libs\u001b[39;00m\u001b[34;01m.\u001b[39;00m\u001b[34;01mpandas_parser\u001b[39;00m  \u001b[38;5;66;03m# isort: skip # type: ignore[reportUnusedImport]\u001b[39;00m\n\u001b[32m     17\u001b[39m \u001b[38;5;28;01mimport\u001b[39;00m\u001b[38;5;250m \u001b[39m\u001b[34;01mpandas\u001b[39;00m\u001b[34;01m.\u001b[39;00m\u001b[34;01m_libs\u001b[39;00m\u001b[34;01m.\u001b[39;00m\u001b[34;01mpandas_datetime\u001b[39;00m  \u001b[38;5;66;03m# noqa: F401 # isort: skip # type: ignore[reportUnusedImport]\u001b[39;00m\n\u001b[32m---> \u001b[39m\u001b[32m18\u001b[39m \u001b[38;5;28;01mfrom\u001b[39;00m\u001b[38;5;250m \u001b[39m\u001b[34;01mpandas\u001b[39;00m\u001b[34;01m.\u001b[39;00m\u001b[34;01m_libs\u001b[39;00m\u001b[34;01m.\u001b[39;00m\u001b[34;01minterval\u001b[39;00m\u001b[38;5;250m \u001b[39m\u001b[38;5;28;01mimport\u001b[39;00m Interval\n\u001b[32m     19\u001b[39m \u001b[38;5;28;01mfrom\u001b[39;00m\u001b[38;5;250m \u001b[39m\u001b[34;01mpandas\u001b[39;00m\u001b[34;01m.\u001b[39;00m\u001b[34;01m_libs\u001b[39;00m\u001b[34;01m.\u001b[39;00m\u001b[34;01mtslibs\u001b[39;00m\u001b[38;5;250m \u001b[39m\u001b[38;5;28;01mimport\u001b[39;00m (\n\u001b[32m     20\u001b[39m     NaT,\n\u001b[32m     21\u001b[39m     NaTType,\n\u001b[32m   (...)\u001b[39m\u001b[32m     26\u001b[39m     iNaT,\n\u001b[32m     27\u001b[39m )\n",
      "\u001b[36mFile \u001b[39m\u001b[32minterval.pyx:1\u001b[39m, in \u001b[36minit pandas._libs.interval\u001b[39m\u001b[34m()\u001b[39m\n",
      "\u001b[31mValueError\u001b[39m: numpy.dtype size changed, may indicate binary incompatibility. Expected 96 from C header, got 88 from PyObject"
     ]
    }
   ],
   "source": [
    "import asyncio\n",
    "import json\n",
    "import os\n",
    "import nest_asyncio\n",
    "import pprint\n",
    "import base64\n",
    "from io import BytesIO\n",
    "import pandas as pd\n",
    "from playwright.async_api import async_playwright\n",
    "from openai import OpenAI\n",
    "from PIL import Image\n",
    "from tabulate import tabulate\n",
    "from IPython.display import display, HTML, Markdown\n",
    "from pydantic import BaseModel\n",
    "from helper import get_openai_api_key, visualizeCourses"
   ]
  },
  {
   "cell_type": "code",
   "execution_count": null,
   "id": "a7f70669-8fdb-4ca1-83cc-e37843c274be",
   "metadata": {
    "height": 47
   },
   "outputs": [],
   "source": [
    "client = OpenAI(api_key=get_openai_api_key())\n",
    "nest_asyncio.apply()"
   ]
  },
  {
   "cell_type": "markdown",
   "id": "4df7d77e-eb6f-4ca3-bdb1-482201c637e5",
   "metadata": {},
   "source": [
    "## WebScraper Agent"
   ]
  },
  {
   "cell_type": "code",
   "execution_count": null,
   "id": "4a4e5c82-b0c6-4976-933d-1d10dc967dc2",
   "metadata": {
    "height": 540
   },
   "outputs": [],
   "source": [
    "class WebScraperAgent:\n",
    "    def __init__(self):\n",
    "        self.playwright = None\n",
    "        self.browser = None\n",
    "        self.page = None\n",
    "\n",
    "    async def init_browser(self):\n",
    "      self.playwright = await async_playwright().start()\n",
    "      self.browser = await self.playwright.chromium.launch(\n",
    "          headless=True,\n",
    "          args=[\n",
    "              \"--disable-dev-shm-usage\",\n",
    "              \"--no-sandbox\",\n",
    "              \"--disable-setuid-sandbox\",\n",
    "              \"--disable-accelerated-2d-canvas\",\n",
    "              \"--disable-gpu\",\n",
    "              \"--no-zygote\",\n",
    "              \"--disable-audio-output\",\n",
    "              \"--disable-software-rasterizer\",\n",
    "              \"--disable-webgl\",\n",
    "              \"--disable-web-security\",\n",
    "              \"--disable-features=LazyFrameLoading\",\n",
    "              \"--disable-features=IsolateOrigins\",\n",
    "              \"--disable-background-networking\"\n",
    "          ]\n",
    "      )\n",
    "      self.page = await self.browser.new_page()\n",
    "\n",
    "    async def scrape_content(self, url):\n",
    "        if not self.page or self.page.is_closed():\n",
    "            await self.init_browser()\n",
    "        await self.page.goto(url, wait_until=\"load\")\n",
    "        await self.page.wait_for_timeout(2000)  # Wait for dynamic content\n",
    "        return await self.page.content()\n",
    "\n",
    "    async def take_screenshot(self, path=\"screenshot.png\"):\n",
    "        await self.page.screenshot(path=path, full_page=True)\n",
    "        return path\n",
    "    async def screenshot_buffer(self):\n",
    "        screenshot_bytes = await self.page.screenshot(type=\"png\", full_page=False)\n",
    "        return screenshot_bytes\n",
    "\n",
    "    async def close(self):\n",
    "        await self.browser.close()\n",
    "        await self.playwright.stop()\n",
    "        self.playwright = None\n",
    "        self.browser = None\n",
    "        self.page = None"
   ]
  },
  {
   "cell_type": "code",
   "execution_count": null,
   "id": "dd91085d-fe42-4c18-84e4-abb9f078f5c7",
   "metadata": {
    "height": 30
   },
   "outputs": [],
   "source": [
    "scraper = WebScraperAgent()"
   ]
  },
  {
   "cell_type": "markdown",
   "id": "8b0a5e5b-9275-4671-9043-b67213ec68e2",
   "metadata": {},
   "source": [
    "## Structured Data Format"
   ]
  },
  {
   "cell_type": "code",
   "execution_count": null,
   "id": "129881ea-22a9-4f98-a6b6-67f1431bad41",
   "metadata": {
    "height": 166
   },
   "outputs": [],
   "source": [
    "class DeeplearningCourse(BaseModel):\n",
    "    title: str\n",
    "    description: str\n",
    "    presenter: list[str]\n",
    "    imageUrl: str\n",
    "    courseURL: str\n",
    "\n",
    "class DeeplearningCourseList(BaseModel):\n",
    "    courses: list[DeeplearningCourse]"
   ]
  },
  {
   "cell_type": "markdown",
   "id": "417f82f0-5fdc-469b-9b3a-29f5b3abf2be",
   "metadata": {},
   "source": [
    "## LLM Client for Open AI"
   ]
  },
  {
   "cell_type": "code",
   "execution_count": null,
   "id": "60eb54fb-948d-4ae2-bc35-a95a711413bf",
   "metadata": {
    "height": 421
   },
   "outputs": [],
   "source": [
    "async def process_with_llm(html, instructions, truncate = False):\n",
    "    completion = client.beta.chat.completions.parse(\n",
    "        model=\"gpt-4o-mini-2024-07-18\",\n",
    "        messages=[{\n",
    "            \"role\": \"system\",\n",
    "            \"content\": f\"\"\"\n",
    "            You are an expert web scraping agent. Your task is to:\n",
    "            Extract relevant information from this HTML to JSON \n",
    "            following these instructions:\n",
    "            {instructions}\n",
    "            \n",
    "            Extract the title, description, presenter, \n",
    "            the image URL and course URL for each of \n",
    "            all the courses for the deeplearning.ai website\n",
    "\n",
    "            Return ONLY valid JSON, no markdown or extra text.\"\"\"\n",
    "        }, {\n",
    "            \"role\": \"user\",\n",
    "            \"content\": html[:150000]  # Truncate to stay under token limits\n",
    "        }],\n",
    "        temperature=0.1,\n",
    "        response_format=DeeplearningCourseList,\n",
    "        )\n",
    "    return completion.choices[0].message.parsed"
   ]
  },
  {
   "cell_type": "code",
   "execution_count": null,
   "id": "8e851d42-1437-4ae0-a8c7-c8d0ba1fb312",
   "metadata": {
    "height": 336
   },
   "outputs": [],
   "source": [
    "async def webscraper(target_url, instructions):\n",
    "    result = None\n",
    "    try:\n",
    "        # Scrape content and capture screenshot\n",
    "        print(\"Extracting HTML Content \\n\")\n",
    "        html_content = await scraper.scrape_content(target_url)\n",
    "\n",
    "        print(\"Taking Screenshot \\n\")\n",
    "        screenshot = await scraper.screenshot_buffer()\n",
    "        # Process content\n",
    "\n",
    "        print(\"Processing..\")\n",
    "        result: DeeplearningCourseList = await process_with_llm(html_content, instructions, False)\n",
    "        print(\"\\nGenerated Structured Response\")\n",
    "    except Exception as e:\n",
    "        print(f\"❌ Error: {str(e)}\")\n",
    "    finally:\n",
    "        await scraper.close()\n",
    "    return result, screenshot"
   ]
  },
  {
   "cell_type": "markdown",
   "id": "4bb770a7-4262-4d16-b1f5-bdf6d809bcde",
   "metadata": {},
   "source": [
    "## Example 1"
   ]
  },
  {
   "cell_type": "code",
   "execution_count": null,
   "id": "080d1f85-d72d-4c84-8b92-47f18ffb71f6",
   "metadata": {
    "height": 47
   },
   "outputs": [],
   "source": [
    "target_url = \"https://www.deeplearning.ai/courses\"  # Deeplearning AI courses\n",
    "base_url=\"https://deeplearning.ai\""
   ]
  },
  {
   "cell_type": "code",
   "execution_count": null,
   "id": "915186ff-5591-4e4f-b717-b4ec9f792820",
   "metadata": {
    "height": 81
   },
   "outputs": [],
   "source": [
    "instructions = \"\"\"\n",
    "    Get all the courses\n",
    "\"\"\"\n",
    "result, screenshot = await webscraper(target_url, instructions)"
   ]
  },
  {
   "cell_type": "code",
   "execution_count": null,
   "id": "80f933ca-80ac-4b2c-94c6-568d73889c8b",
   "metadata": {
    "height": 98
   },
   "outputs": [],
   "source": [
    "await visualizeCourses(result=result, \n",
    "                       screenshot=screenshot, \n",
    "                       target_url=target_url, \n",
    "                       instructions=instructions, \n",
    "                       base_url=base_url)"
   ]
  },
  {
   "cell_type": "markdown",
   "id": "7f03c76c-cea6-41a2-b935-de2982d33910",
   "metadata": {},
   "source": [
    "## Example with RAG courses"
   ]
  },
  {
   "cell_type": "code",
   "execution_count": null,
   "id": "41b08be3-7249-4152-8a29-e91a2364dffb",
   "metadata": {
    "height": 166
   },
   "outputs": [],
   "source": [
    "subject = \"Retrieval Augmented Generation (RAG) \"\n",
    "\n",
    "instructions = f\"\"\"\n",
    "Read the description of the courses and only \n",
    "provide the three courses that are about {subject}. \n",
    "Make sure that we don't have any other\n",
    "cources in the output\n",
    "\"\"\"\n",
    "result, screenshot = await webscraper(target_url, instructions)"
   ]
  },
  {
   "cell_type": "code",
   "execution_count": null,
   "id": "67efd225-7b8b-4464-890e-734e64028cc9",
   "metadata": {
    "height": 98
   },
   "outputs": [],
   "source": [
    "await visualizeCourses(result=result, \n",
    "                       screenshot=screenshot, \n",
    "                       target_url=target_url, \n",
    "                       instructions=instructions, \n",
    "                       base_url=base_url)"
   ]
  },
  {
   "cell_type": "markdown",
   "id": "81298336-833d-4745-977b-eb2b36fe85e4",
   "metadata": {},
   "source": [
    "## Challenges in the web agents"
   ]
  },
  {
   "cell_type": "code",
   "execution_count": null,
   "id": "5699b17a-105b-4c9f-b8b0-64eaa55862ca",
   "metadata": {
    "height": 115
   },
   "outputs": [],
   "source": [
    "subject = \"Retrieval Augmented Generation (RAG) \"\n",
    "instructions = f\"\"\"\n",
    "Can you get the summary of the top course on\n",
    "{subject} provide the learnings from it\n",
    "\"\"\"\n",
    "result, screenshot = await webscraper(target_url, instructions)"
   ]
  },
  {
   "cell_type": "code",
   "execution_count": null,
   "id": "9c5cb314-7323-404e-99ca-a3184fd496b4",
   "metadata": {
    "height": 98
   },
   "outputs": [],
   "source": [
    "await visualizeCourses(result=result,\n",
    "                       screenshot=screenshot,\n",
    "                       target_url=target_url,\n",
    "                       instructions=instructions,\n",
    "                       base_url=base_url)"
   ]
  },
  {
   "cell_type": "code",
   "execution_count": null,
   "id": "c21de71e-7a13-4ef1-bf14-4331d6722f8a",
   "metadata": {
    "height": 30
   },
   "outputs": [],
   "source": []
  },
  {
   "cell_type": "code",
   "execution_count": null,
   "id": "50ec00a0-b443-4112-bd6e-e02939f45316",
   "metadata": {
    "height": 30
   },
   "outputs": [],
   "source": []
  },
  {
   "cell_type": "code",
   "execution_count": null,
   "id": "a8bac057-7d88-43bf-81df-932da7cd6fb1",
   "metadata": {
    "height": 30
   },
   "outputs": [],
   "source": []
  },
  {
   "cell_type": "code",
   "execution_count": null,
   "id": "539f3c70-d481-4519-a997-0001842ac82a",
   "metadata": {
    "height": 30
   },
   "outputs": [],
   "source": []
  },
  {
   "cell_type": "code",
   "execution_count": null,
   "id": "18f1a1c9-c20a-4f5a-be4d-26a9b73052a5",
   "metadata": {
    "height": 30
   },
   "outputs": [],
   "source": []
  }
 ],
 "metadata": {
  "kernelspec": {
   "display_name": "Python (hf-mps)",
   "language": "python",
   "name": "hf-mps"
  },
  "language_info": {
   "codemirror_mode": {
    "name": "ipython",
    "version": 3
   },
   "file_extension": ".py",
   "mimetype": "text/x-python",
   "name": "python",
   "nbconvert_exporter": "python",
   "pygments_lexer": "ipython3",
   "version": "3.11.12"
  }
 },
 "nbformat": 4,
 "nbformat_minor": 5
}
